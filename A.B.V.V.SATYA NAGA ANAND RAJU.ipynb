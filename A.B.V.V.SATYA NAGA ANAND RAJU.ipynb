{
 "cells": [
  {
   "cell_type": "markdown",
   "id": "efdee7cb",
   "metadata": {},
   "source": [
    "1.\n"
   ]
  },
  {
   "cell_type": "code",
   "execution_count": 25,
   "id": "4fffad82",
   "metadata": {},
   "outputs": [
    {
     "data": {
      "text/plain": [
       "[1, 2, 3, 4]"
      ]
     },
     "execution_count": 25,
     "metadata": {},
     "output_type": "execute_result"
    }
   ],
   "source": [
    "x=[1,2,3,4]\n",
    "x"
   ]
  },
  {
   "cell_type": "code",
   "execution_count": 2,
   "id": "f61c61d7",
   "metadata": {},
   "outputs": [
    {
     "name": "stdout",
     "output_type": "stream",
     "text": [
      "[1, 2, 3, 4, 1, 2, 3, 4]\n"
     ]
    }
   ],
   "source": [
    "print(x*2)"
   ]
  },
  {
   "cell_type": "markdown",
   "id": "b3167ed4",
   "metadata": {},
   "source": [
    "2.\n"
   ]
  },
  {
   "cell_type": "code",
   "execution_count": 37,
   "id": "852be2af",
   "metadata": {},
   "outputs": [
    {
     "data": {
      "text/plain": [
       "[1, 2, 3, 4, 5, 6, 7, 8]"
      ]
     },
     "execution_count": 37,
     "metadata": {},
     "output_type": "execute_result"
    }
   ],
   "source": [
    "y=[5,6,7,8]\n",
    "y\n",
    "x+y\n",
    "\n"
   ]
  },
  {
   "cell_type": "markdown",
   "id": "b1330c9e",
   "metadata": {},
   "source": [
    "3."
   ]
  },
  {
   "cell_type": "code",
   "execution_count": 42,
   "id": "bc09cd0e",
   "metadata": {},
   "outputs": [
    {
     "data": {
      "text/plain": [
       "[1, 2, 3, 4, 5, 6, 7, 8]"
      ]
     },
     "execution_count": 42,
     "metadata": {},
     "output_type": "execute_result"
    }
   ],
   "source": [
    "abc=x+y\n",
    "abc"
   ]
  },
  {
   "cell_type": "code",
   "execution_count": 40,
   "id": "679b0eb4",
   "metadata": {},
   "outputs": [],
   "source": [
    "   abc.clear()"
   ]
  },
  {
   "cell_type": "code",
   "execution_count": 41,
   "id": "e74107b9",
   "metadata": {},
   "outputs": [
    {
     "data": {
      "text/plain": [
       "[]"
      ]
     },
     "execution_count": 41,
     "metadata": {},
     "output_type": "execute_result"
    }
   ],
   "source": [
    "abc"
   ]
  },
  {
   "cell_type": "markdown",
   "id": "6305bc6b",
   "metadata": {},
   "source": [
    "4."
   ]
  },
  {
   "cell_type": "code",
   "execution_count": 55,
   "id": "b5df3669",
   "metadata": {},
   "outputs": [],
   "source": [
    "z1=[1,23,4,5,54,3,2,1,4,64,3]"
   ]
  },
  {
   "cell_type": "code",
   "execution_count": 32,
   "id": "731659b8",
   "metadata": {},
   "outputs": [
    {
     "data": {
      "text/plain": [
       "11"
      ]
     },
     "execution_count": 32,
     "metadata": {},
     "output_type": "execute_result"
    }
   ],
   "source": [
    "len(z)"
   ]
  },
  {
   "cell_type": "markdown",
   "id": "56db9954",
   "metadata": {},
   "source": [
    "5.\n"
   ]
  },
  {
   "cell_type": "code",
   "execution_count": 56,
   "id": "8a38d8a9",
   "metadata": {},
   "outputs": [],
   "source": [
    "z1.sort(reverse=True)"
   ]
  },
  {
   "cell_type": "code",
   "execution_count": 57,
   "id": "00348afc",
   "metadata": {},
   "outputs": [
    {
     "data": {
      "text/plain": [
       "[64, 54, 23, 5, 4, 4, 3, 3, 2, 1, 1]"
      ]
     },
     "execution_count": 57,
     "metadata": {},
     "output_type": "execute_result"
    }
   ],
   "source": [
    "z1"
   ]
  },
  {
   "cell_type": "markdown",
   "id": "f750db56",
   "metadata": {},
   "source": [
    "6."
   ]
  },
  {
   "cell_type": "code",
   "execution_count": 45,
   "id": "6fb01241",
   "metadata": {},
   "outputs": [],
   "source": [
    "z=[1,23,4,5,54,3,2,1,4,64,3]"
   ]
  },
  {
   "cell_type": "code",
   "execution_count": 49,
   "id": "dfda53d1",
   "metadata": {},
   "outputs": [],
   "source": [
    "z.insert(5,1233445)"
   ]
  },
  {
   "cell_type": "code",
   "execution_count": 50,
   "id": "d7ce0eac",
   "metadata": {},
   "outputs": [
    {
     "data": {
      "text/plain": [
       "[1, 23, 4, 5, 54, 1233445, 3, 2, 1, 4, 64, 3]"
      ]
     },
     "execution_count": 50,
     "metadata": {},
     "output_type": "execute_result"
    }
   ],
   "source": [
    "z"
   ]
  },
  {
   "cell_type": "markdown",
   "id": "5a7337f3",
   "metadata": {},
   "source": [
    "7."
   ]
  },
  {
   "cell_type": "code",
   "execution_count": 65,
   "id": "c54d7b13",
   "metadata": {},
   "outputs": [],
   "source": [
    "z=[[1,2,3],[4,5,54],[3,2,1],[4,64,3]]"
   ]
  },
  {
   "cell_type": "code",
   "execution_count": 66,
   "id": "9d3efedb",
   "metadata": {},
   "outputs": [
    {
     "data": {
      "text/plain": [
       "[1, 2, 3]"
      ]
     },
     "execution_count": 66,
     "metadata": {},
     "output_type": "execute_result"
    }
   ],
   "source": [
    "z[0]"
   ]
  },
  {
   "cell_type": "markdown",
   "id": "b772d544",
   "metadata": {},
   "source": [
    "8.remove duplicates"
   ]
  },
  {
   "cell_type": "code",
   "execution_count": 68,
   "id": "d4da5100",
   "metadata": {},
   "outputs": [],
   "source": [
    "z=[1,23,4,5,54,3,2,1,4,64,3]"
   ]
  },
  {
   "cell_type": "code",
   "execution_count": 81,
   "id": "4cd440bf",
   "metadata": {},
   "outputs": [
    {
     "name": "stdout",
     "output_type": "stream",
     "text": [
      "[1, 23, 4, 5, 54, 3, 2, 64]\n"
     ]
    }
   ],
   "source": [
    "z=list(dict.fromkeys(z))\n",
    "print(z)"
   ]
  },
  {
   "cell_type": "markdown",
   "id": "2586aaae",
   "metadata": {},
   "source": [
    "9.\n"
   ]
  },
  {
   "cell_type": "code",
   "execution_count": 95,
   "id": "e3008c70",
   "metadata": {},
   "outputs": [],
   "source": [
    "x=[1,2,3,4]\n",
    "y=[5,6,7,8,4]"
   ]
  },
  {
   "cell_type": "code",
   "execution_count": 99,
   "id": "e28535d4",
   "metadata": {},
   "outputs": [
    {
     "data": {
      "text/plain": [
       "{4}"
      ]
     },
     "execution_count": 99,
     "metadata": {},
     "output_type": "execute_result"
    }
   ],
   "source": [
    "set(x).intersection(y)"
   ]
  },
  {
   "cell_type": "markdown",
   "id": "6ee46a8a",
   "metadata": {},
   "source": [
    "10\n"
   ]
  },
  {
   "cell_type": "code",
   "execution_count": 1,
   "id": "213bc792",
   "metadata": {},
   "outputs": [
    {
     "data": {
      "text/plain": [
       "[3, 54, 1, 3]"
      ]
     },
     "execution_count": 1,
     "metadata": {},
     "output_type": "execute_result"
    }
   ],
   "source": [
    "z=[1,2,3,4,5,54,3,2,1,4,64,3]\n",
    "z[2::3]"
   ]
  },
  {
   "cell_type": "markdown",
   "id": "a9b71c11",
   "metadata": {},
   "source": [
    "11\n"
   ]
  },
  {
   "cell_type": "code",
   "execution_count": 2,
   "id": "7cd8f720",
   "metadata": {},
   "outputs": [
    {
     "data": {
      "text/plain": [
       "1.24"
      ]
     },
     "execution_count": 2,
     "metadata": {},
     "output_type": "execute_result"
    }
   ],
   "source": [
    "round(1.23742,2)"
   ]
  },
  {
   "cell_type": "code",
   "execution_count": 3,
   "id": "7deb9190",
   "metadata": {},
   "outputs": [
    {
     "data": {
      "text/plain": [
       "-1.243"
      ]
     },
     "execution_count": 3,
     "metadata": {},
     "output_type": "execute_result"
    }
   ],
   "source": [
    "round(-1.243225,3)\n"
   ]
  },
  {
   "cell_type": "code",
   "execution_count": 5,
   "id": "4b767576",
   "metadata": {},
   "outputs": [
    {
     "data": {
      "text/plain": [
       "16278000"
      ]
     },
     "execution_count": 5,
     "metadata": {},
     "output_type": "execute_result"
    }
   ],
   "source": [
    "import math \n",
    "int(math.ceil(1627731 / 100.0)) * 1000\n"
   ]
  },
  {
   "cell_type": "markdown",
   "id": "1eb7854c",
   "metadata": {},
   "source": [
    "12"
   ]
  },
  {
   "cell_type": "code",
   "execution_count": 6,
   "id": "1060bb25",
   "metadata": {},
   "outputs": [
    {
     "data": {
      "text/plain": [
       "'1.23'"
      ]
     },
     "execution_count": 6,
     "metadata": {},
     "output_type": "execute_result"
    }
   ],
   "source": [
    "format(1.234567, '.2f') "
   ]
  },
  {
   "cell_type": "code",
   "execution_count": 7,
   "id": "451a1096",
   "metadata": {},
   "outputs": [
    {
     "data": {
      "text/plain": [
       "'2.12346'"
      ]
     },
     "execution_count": 7,
     "metadata": {},
     "output_type": "execute_result"
    }
   ],
   "source": [
    "format(2.1234567, '.5f') "
   ]
  },
  {
   "cell_type": "code",
   "execution_count": 8,
   "id": "87929d52",
   "metadata": {},
   "outputs": [
    {
     "data": {
      "text/plain": [
       "('0b10011010010', '0b1111', '0b1100100')"
      ]
     },
     "execution_count": 8,
     "metadata": {},
     "output_type": "execute_result"
    }
   ],
   "source": [
    "X = 1234\n",
    "Y = 15\n",
    "Z = 100\n",
    "bin(X),bin(Y),bin(Z)"
   ]
  },
  {
   "cell_type": "markdown",
   "id": "00d3548f",
   "metadata": {},
   "source": [
    "13.convertions"
   ]
  },
  {
   "cell_type": "code",
   "execution_count": 9,
   "id": "896dfb40",
   "metadata": {},
   "outputs": [
    {
     "data": {
      "text/plain": [
       "('0o2322', '0o17', '0o144')"
      ]
     },
     "execution_count": 9,
     "metadata": {},
     "output_type": "execute_result"
    }
   ],
   "source": [
    "oct(X),oct(Y),oct(Z)"
   ]
  },
  {
   "cell_type": "code",
   "execution_count": 10,
   "id": "edf4d6f5",
   "metadata": {},
   "outputs": [
    {
     "data": {
      "text/plain": [
       "('0x4d2', '0xf', '0x64')"
      ]
     },
     "execution_count": 10,
     "metadata": {},
     "output_type": "execute_result"
    }
   ],
   "source": [
    "hex(X),hex(Y),hex(Z)"
   ]
  },
  {
   "cell_type": "code",
   "execution_count": 11,
   "id": "df5ba8f4",
   "metadata": {},
   "outputs": [
    {
     "data": {
      "text/plain": [
       "1234"
      ]
     },
     "execution_count": 11,
     "metadata": {},
     "output_type": "execute_result"
    }
   ],
   "source": [
    "int('4d2',base=16)"
   ]
  },
  {
   "cell_type": "code",
   "execution_count": 12,
   "id": "452cd56a",
   "metadata": {},
   "outputs": [
    {
     "data": {
      "text/plain": [
       "1234"
      ]
     },
     "execution_count": 12,
     "metadata": {},
     "output_type": "execute_result"
    }
   ],
   "source": [
    "int('10011010010',base=2)"
   ]
  }
 ],
 "metadata": {
  "kernelspec": {
   "display_name": "Python 3",
   "language": "python",
   "name": "python3"
  },
  "language_info": {
   "codemirror_mode": {
    "name": "ipython",
    "version": 3
   },
   "file_extension": ".py",
   "mimetype": "text/x-python",
   "name": "python",
   "nbconvert_exporter": "python",
   "pygments_lexer": "ipython3",
   "version": "3.8.8"
  }
 },
 "nbformat": 4,
 "nbformat_minor": 5
}
